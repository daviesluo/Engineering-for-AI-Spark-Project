{
 "cells": [
  {
   "cell_type": "markdown",
   "metadata": {
    "application/vnd.databricks.v1+cell": {
     "cellMetadata": {},
     "inputWidgets": {},
     "nuid": "7601bf0e-75f1-4b25-97f1-54e1d855bd12",
     "showTitle": false,
     "title": ""
    }
   },
   "source": [
    "# [CSC8101] Engineering for AI - 2024 Spark Coursework"
   ]
  },
  {
   "cell_type": "markdown",
   "metadata": {
    "application/vnd.databricks.v1+cell": {
     "cellMetadata": {},
     "inputWidgets": {},
     "nuid": "a451fe1b-c36e-4226-a708-a903f5844f7d",
     "showTitle": false,
     "title": ""
    }
   },
   "source": [
    "## Coursework overview\n",
    "\n",
    "### Inputs\n",
    "\n",
    "- **NYC Taxi Trips dataset** - list of recorded taxi trips, each with several characteristics, namely: distance, number of passengers, origin zone, destination zone and trip cost (total amount charged to customer).\n",
    "- **NYC Zones dataset** - list of zones wherein trips can originate/terminate.\n",
    "\n",
    "### Tasks\n",
    "\n",
    "1. Data cleaning\n",
    "  1. Remove \"0 distance\" and 'no passengers' records.\n",
    "  2. Remove outlier records. \n",
    "2. Add new columns\n",
    "  1. Join with zones dataset\n",
    "  2. Compute the unit profitability of each trip\n",
    "3. Zone summarisation and ranking\n",
    "  1. Summarise trip data per zone\n",
    "  2. Obtain the top 10 ranks according to:\n",
    "    1. The total trip volume\n",
    "    2. Their average profitabilitiy\n",
    "    3. The total passenger volume\n",
    "4. Record the total and task-specific execution times for each dataset size and format.\n",
    "\n",
    "### How to\n",
    "\n",
    "###### Code structure and implementation\n",
    "\n",
    "- You must implement your solution to each task in the provided function code skeleton.\n",
    "- The task-specific functions are combined together to form the full pipeline code, executed last (do not modify this code).\n",
    "- Before implementing the specified function skeleton, you should develop and test your solution on separate code cells (create and destroy cells as needed).\n",
    "\n",
    "###### Development\n",
    "\n",
    "- Develop an initial working solution for the 'S' dataset and only then optimise it for larger dataset sizes.\n",
    "- To perform vectorised operations on a DataFrame:\n",
    "  - use the API docs to look for existing vectorised functions in: https://spark.apache.org/docs/latest/api/python/reference/pyspark.sql/functions.html\n",
    "  - actions to get around the lazy execution of spark: \n",
    "  https://spark.apache.org/docs/latest/rdd-programming-guide.html#actions\n",
    "  - if a customised function is required (e.g. to add a new column based on a linear combination of other columns), implement your own User Defined Function (UDF). See:  https://spark.apache.org/docs/latest/sql-ref-functions-udf-scalar.html\n",
    "- Use only the `pyspark.sql` API - documentation link below - (note that searching through the docs returns results from the `pyspark.sql` API together with the `pyspark.pandas` API):\n",
    "  - https://spark.apache.org/docs/3.2.0/api/python/reference/pyspark.sql.html\n",
    "- Periodically download your notebook to your computer as backup and safety measure against accidental file deletion.\n",
    " \n",
    "###### Execution time measurement\n",
    "\n",
    "- Execution time is calculated and returned by the Spark Engine and shown in the output region of the cell.\n",
    "- To measure the execution time of a task you must perform a `collect` or similar operation (e.g. `take`) on the returned DataFrame."
   ]
  },
  {
   "cell_type": "markdown",
   "metadata": {
    "application/vnd.databricks.v1+cell": {
     "cellMetadata": {},
     "inputWidgets": {},
     "nuid": "d26c1c73-cac4-4937-8201-4c15cc6be296",
     "showTitle": false,
     "title": ""
    }
   },
   "source": [
    "## Task 0 - Read data\n",
    "\n",
    "The code below is ready to run. **Do not modify this code**. It does the following:\n",
    "\n",
    "- Reads the 'zones' dataset into variable 'zone_names'\n",
    "- Defines the `init_trips` function that allows you to read the 'trips' dataset (from the DBFS FileStore) given the dataset size ('S' to 'XXL') and format ('parquet' or 'delta') as function arguments\n",
    "- Defines the `pipeline` function, called in Task 4 to measure the execution time of the entire data processing pipeline\n",
    "- Shows you how to call the `init_trips` function and display dataset characteristics (number of rows, schema)"
   ]
  },
  {
   "cell_type": "code",
   "execution_count": 0,
   "metadata": {
    "application/vnd.databricks.v1+cell": {
     "cellMetadata": {
      "byteLimit": 2048000,
      "rowLimit": 10000
     },
     "inputWidgets": {},
     "nuid": "d216264f-e605-4e1b-8840-82d1e802cda8",
     "showTitle": false,
     "title": ""
    }
   },
   "outputs": [],
   "source": [
    "## global imports\n",
    "import pyspark.sql as ps\n",
    "import pyspark.sql.functions as pf\n",
    "import pandas as pd\n",
    "\n",
    "# Load zone names dataset - (much faster to read small file from git than dbfs)\n",
    "zones_file_url = 'https://raw.githubusercontent.com/mutazb999/CSC8101-lab-and-coursework/main/02-assignment-spark/taxi_zone_names.csv'\n",
    "zone_names = spark.createDataFrame(pd.read_csv(zones_file_url))\n"
   ]
  },
  {
   "cell_type": "code",
   "execution_count": 0,
   "metadata": {
    "application/vnd.databricks.v1+cell": {
     "cellMetadata": {
      "byteLimit": 2048000,
      "rowLimit": 10000
     },
     "inputWidgets": {},
     "nuid": "4c1ccc4f-b8c3-435b-be65-fe4f1d541c95",
     "showTitle": false,
     "title": ""
    }
   },
   "outputs": [],
   "source": [
    "# Function to load trips dataset by selected dataset size\n",
    "def init_trips(size = 'S', data_format = \"parquet\", taxi_folder = \"/FileStore/tables/taxi\"):     \n",
    "    \n",
    "    files = {\n",
    "        'S'  : ['2021_07'],\n",
    "        'M'  : ['2021'],\n",
    "        'L'  : ['2020_21'],\n",
    "        'XL' : ['1_6_2019', '7_12_2019'],\n",
    "        'XXL': ['1_6_2019', '7_12_2019', '2020_21']\n",
    "    }\n",
    "    \n",
    "    # validate input dataset size\n",
    "    if size not in files.keys():\n",
    "        print(\"Invalid input dataset size. Must be one of {}\".format(list(files.keys())))\n",
    "        return None               \n",
    "    \n",
    "    if data_format == \"parquet\":\n",
    "        filenames = list(map(lambda s: f'{taxi_folder}/parquet/tripdata_{s}.parquet', files[size]))\n",
    "        trips_df = spark.read.parquet(filenames[0])\n",
    "        \n",
    "        for name in filenames[1:]:\n",
    "            trips_df = trips_df.union(spark.read.parquet(name))\n",
    "            \n",
    "    elif data_format == \"delta\":\n",
    "        filenames = f\"{taxi_folder}/delta/taxi-{size}-delta/\"\n",
    "        trips_df = spark.read.format(\"delta\").load(filenames)\n",
    "    \n",
    "    else:\n",
    "        print(\"Invalid data format. Must be one of {}\".format(['parquet', 'delta']))\n",
    "        return None\n",
    "        \n",
    "    print(\n",
    "    \"\"\"\n",
    "    Trips dataset loaded!\n",
    "    ---\n",
    "      Size: {s}\n",
    "      Format: {f}\n",
    "      Tables loaded: {ds}\n",
    "      Number of trips (dataset rows): {tc:,}\n",
    "    \"\"\".format(s = size, f = data_format, ds = filenames, tc = trips_df.count()))\n",
    "    \n",
    "    return trips_df"
   ]
  },
  {
   "cell_type": "code",
   "execution_count": 0,
   "metadata": {
    "application/vnd.databricks.v1+cell": {
     "cellMetadata": {
      "byteLimit": 2048000,
      "rowLimit": 10000
     },
     "inputWidgets": {},
     "nuid": "57aaebcc-fc2a-4d86-a58e-c1489efeadaf",
     "showTitle": false,
     "title": ""
    }
   },
   "outputs": [],
   "source": [
    "# helper function to print dataset row count\n",
    "def print_count(df):\n",
    "    print(\"Row count: {t:,}\".format(t = df.count()))\n",
    "\n",
    "def pipeline(trips_df, with_task_12 = False, zones_df = zone_names):\n",
    "    # Do not edit\n",
    "    #---\n",
    "\n",
    "    ## Task 1.1\n",
    "    _trips_11 = t11_remove_zeros(trips_df)\n",
    "\n",
    "    ## Task 1.2\n",
    "    if with_task_12:\n",
    "        _trips_12 = t12_remove_outliers(_trips_11)\n",
    "    else:\n",
    "        _trips_12 = _trips_11\n",
    "\n",
    "    ## Task 2.1\n",
    "    _trips_21 = t21_join_zones(_trips_12, zones_df = zone_names)\n",
    "\n",
    "    ## Task 2.2\n",
    "    _trips_22 = t22_calc_profit(_trips_21)\n",
    "\n",
    "    ## Task 3.1\n",
    "    _graph = t31_summarise_trips(_trips_22)\n",
    "\n",
    "    ## Task 3.2\n",
    "    _zones = t32_summarise_zones_pairs(_graph)\n",
    "\n",
    "    _top10_trips     = t32_top10_trips(_zones)\n",
    "    _top10_profit    = t32_top10_profit(_zones)\n",
    "    _top10_passenger = t32_top10_passenger(_zones)\n",
    "    \n",
    "    return([_top10_trips, _top10_profit, _top10_passenger])"
   ]
  },
  {
   "cell_type": "code",
   "execution_count": 0,
   "metadata": {
    "application/vnd.databricks.v1+cell": {
     "cellMetadata": {
      "byteLimit": 2048000,
      "rowLimit": 10000
     },
     "inputWidgets": {},
     "nuid": "490ab841-fd73-4466-a6e7-5121395deca9",
     "showTitle": false,
     "title": ""
    }
   },
   "outputs": [
    {
     "output_type": "stream",
     "name": "stdout",
     "output_type": "stream",
     "text": [
      "\n    Trips dataset loaded!\n    ---\n      Size: S\n      Format: parquet\n      Tables loaded: ['/FileStore/tables/taxi/parquet/tripdata_2021_07.parquet']\n      Number of trips (dataset rows): 2,898,033\n    \n"
     ]
    }
   ],
   "source": [
    "# CHANGE the value of argument 'size' to record the pipeline execution times for increasing dataset sizes\n",
    "SIZE = 'S'\n",
    "DATA_FORMAT = 'parquet'\n",
    "\n",
    "# Load trips dataset\n",
    "trips = init_trips(SIZE, DATA_FORMAT)\n",
    "\n",
    "# uncomment line only for small datasets\n",
    "# trips.take(1)"
   ]
  },
  {
   "cell_type": "code",
   "execution_count": 0,
   "metadata": {
    "application/vnd.databricks.v1+cell": {
     "cellMetadata": {
      "byteLimit": 2048000,
      "rowLimit": 10000
     },
     "inputWidgets": {},
     "nuid": "92da0d12-33a0-4df0-b1d2-607ebb65d948",
     "showTitle": false,
     "title": ""
    }
   },
   "outputs": [
    {
     "output_type": "stream",
     "name": "stdout",
     "output_type": "stream",
     "text": [
      "Row count: 2,898,033\n"
     ]
    }
   ],
   "source": [
    "print_count(trips)"
   ]
  },
  {
   "cell_type": "code",
   "execution_count": 0,
   "metadata": {
    "application/vnd.databricks.v1+cell": {
     "cellMetadata": {
      "byteLimit": 2048000,
      "rowLimit": 10000
     },
     "inputWidgets": {},
     "nuid": "490e67f7-4457-4bd5-b89a-a6d24c5645d5",
     "showTitle": false,
     "title": ""
    }
   },
   "outputs": [
    {
     "output_type": "stream",
     "name": "stdout",
     "output_type": "stream",
     "text": [
      "root\n |-- index: long (nullable = true)\n |-- VendorID: double (nullable = true)\n |-- tpep_pickup_datetime: string (nullable = true)\n |-- tpep_dropoff_datetime: string (nullable = true)\n |-- passenger_count: double (nullable = true)\n |-- trip_distance: double (nullable = true)\n |-- RatecodeID: double (nullable = true)\n |-- store_and_fwd_flag: string (nullable = true)\n |-- PULocationID: long (nullable = true)\n |-- DOLocationID: long (nullable = true)\n |-- payment_type: double (nullable = true)\n |-- fare_amount: double (nullable = true)\n |-- extra: double (nullable = true)\n |-- mta_tax: double (nullable = true)\n |-- tip_amount: double (nullable = true)\n |-- tolls_amount: double (nullable = true)\n |-- improvement_surcharge: double (nullable = true)\n |-- total_amount: double (nullable = true)\n |-- congestion_surcharge: double (nullable = true)\n |-- cab_type: string (nullable = true)\n |-- lpep_pickup_datetime: string (nullable = true)\n |-- lpep_dropoff_datetime: string (nullable = true)\n |-- ehail_fee: double (nullable = true)\n |-- trip_type: double (nullable = true)\n\n"
     ]
    }
   ],
   "source": [
    "# dataset schemas\n",
    "trips.printSchema()"
   ]
  },
  {
   "cell_type": "code",
   "execution_count": 0,
   "metadata": {
    "application/vnd.databricks.v1+cell": {
     "cellMetadata": {
      "byteLimit": 2048000,
      "rowLimit": 10000
     },
     "inputWidgets": {},
     "nuid": "5e2ab160-b9b8-4c4a-bb70-fc3197bae230",
     "showTitle": false,
     "title": ""
    }
   },
   "outputs": [
    {
     "output_type": "display_data",
     "data": {
      "text/html": [
       "<style scoped>\n",
       "  .table-result-container {\n",
       "    max-height: 300px;\n",
       "    overflow: auto;\n",
       "  }\n",
       "  table, th, td {\n",
       "    border: 1px solid black;\n",
       "    border-collapse: collapse;\n",
       "  }\n",
       "  th, td {\n",
       "    padding: 5px;\n",
       "  }\n",
       "  th {\n",
       "    text-align: left;\n",
       "  }\n",
       "</style><div class='table-result-container'><table class='table-result'><thead style='background-color: white'><tr><th>PULocationID</th><th>DOLocationID</th><th>trip_distance</th><th>passenger_count</th><th>total_amount</th></tr></thead><tbody><tr><td>90</td><td>68</td><td>0.8</td><td>1.0</td><td>8.8</td></tr><tr><td>113</td><td>90</td><td>0.9</td><td>1.0</td><td>8.8</td></tr><tr><td>88</td><td>232</td><td>2.8</td><td>1.0</td><td>13.8</td></tr><tr><td>79</td><td>249</td><td>1.4</td><td>1.0</td><td>12.3</td></tr><tr><td>142</td><td>238</td><td>2.0</td><td>0.0</td><td>12.3</td></tr></tbody></table></div>"
      ]
     },
     "metadata": {
      "application/vnd.databricks.v1+output": {
       "addedWidgets": {},
       "aggData": [],
       "aggError": "",
       "aggOverflow": false,
       "aggSchema": [],
       "aggSeriesLimitReached": false,
       "aggType": "",
       "arguments": {},
       "columnCustomDisplayInfos": {},
       "data": [
        [
         90,
         68,
         0.8,
         1.0,
         8.8
        ],
        [
         113,
         90,
         0.9,
         1.0,
         8.8
        ],
        [
         88,
         232,
         2.8,
         1.0,
         13.8
        ],
        [
         79,
         249,
         1.4,
         1.0,
         12.3
        ],
        [
         142,
         238,
         2.0,
         0.0,
         12.3
        ]
       ],
       "datasetInfos": [],
       "dbfsResultPath": null,
       "isJsonSchema": true,
       "metadata": {},
       "overflow": false,
       "plotOptions": {
        "customPlotOptions": {},
        "displayType": "table",
        "pivotAggregation": null,
        "pivotColumns": null,
        "xColumns": null,
        "yColumns": null
       },
       "removedWidgets": [],
       "schema": [
        {
         "metadata": "{}",
         "name": "PULocationID",
         "type": "\"long\""
        },
        {
         "metadata": "{}",
         "name": "DOLocationID",
         "type": "\"long\""
        },
        {
         "metadata": "{}",
         "name": "trip_distance",
         "type": "\"double\""
        },
        {
         "metadata": "{}",
         "name": "passenger_count",
         "type": "\"double\""
        },
        {
         "metadata": "{}",
         "name": "total_amount",
         "type": "\"double\""
        }
       ],
       "type": "table"
      }
     },
     "output_type": "display_data"
    }
   ],
   "source": [
    "display(trips[['PULocationID', 'DOLocationID', 'trip_distance', 'passenger_count', 'total_amount']].take(5))"
   ]
  },
  {
   "cell_type": "code",
   "execution_count": 0,
   "metadata": {
    "application/vnd.databricks.v1+cell": {
     "cellMetadata": {
      "byteLimit": 2048000,
      "rowLimit": 10000
     },
     "inputWidgets": {},
     "nuid": "eee4451c-b49a-42a6-b87e-81aad4144cf1",
     "showTitle": false,
     "title": ""
    }
   },
   "outputs": [
    {
     "output_type": "stream",
     "name": "stdout",
     "output_type": "stream",
     "text": [
      "root\n |-- LocationID: long (nullable = true)\n |-- Borough: string (nullable = true)\n |-- Zone: string (nullable = true)\n |-- service_zone: string (nullable = true)\n\n"
     ]
    }
   ],
   "source": [
    "zone_names.printSchema()"
   ]
  },
  {
   "cell_type": "code",
   "execution_count": 0,
   "metadata": {
    "application/vnd.databricks.v1+cell": {
     "cellMetadata": {
      "byteLimit": 2048000,
      "rowLimit": 10000
     },
     "inputWidgets": {},
     "nuid": "8a1ed0a0-0621-471d-8332-d47b52f71817",
     "showTitle": false,
     "title": ""
    }
   },
   "outputs": [
    {
     "output_type": "display_data",
     "data": {
      "text/html": [
       "<style scoped>\n",
       "  .table-result-container {\n",
       "    max-height: 300px;\n",
       "    overflow: auto;\n",
       "  }\n",
       "  table, th, td {\n",
       "    border: 1px solid black;\n",
       "    border-collapse: collapse;\n",
       "  }\n",
       "  th, td {\n",
       "    padding: 5px;\n",
       "  }\n",
       "  th {\n",
       "    text-align: left;\n",
       "  }\n",
       "</style><div class='table-result-container'><table class='table-result'><thead style='background-color: white'><tr><th>LocationID</th><th>Borough</th><th>Zone</th><th>service_zone</th></tr></thead><tbody><tr><td>1</td><td>EWR</td><td>Newark Airport</td><td>EWR</td></tr><tr><td>2</td><td>Queens</td><td>Jamaica Bay</td><td>Boro Zone</td></tr><tr><td>3</td><td>Bronx</td><td>Allerton/Pelham Gardens</td><td>Boro Zone</td></tr><tr><td>4</td><td>Manhattan</td><td>Alphabet City</td><td>Yellow Zone</td></tr><tr><td>5</td><td>Staten Island</td><td>Arden Heights</td><td>Boro Zone</td></tr></tbody></table></div>"
      ]
     },
     "metadata": {
      "application/vnd.databricks.v1+output": {
       "addedWidgets": {},
       "aggData": [],
       "aggError": "",
       "aggOverflow": false,
       "aggSchema": [],
       "aggSeriesLimitReached": false,
       "aggType": "",
       "arguments": {},
       "columnCustomDisplayInfos": {},
       "data": [
        [
         1,
         "EWR",
         "Newark Airport",
         "EWR"
        ],
        [
         2,
         "Queens",
         "Jamaica Bay",
         "Boro Zone"
        ],
        [
         3,
         "Bronx",
         "Allerton/Pelham Gardens",
         "Boro Zone"
        ],
        [
         4,
         "Manhattan",
         "Alphabet City",
         "Yellow Zone"
        ],
        [
         5,
         "Staten Island",
         "Arden Heights",
         "Boro Zone"
        ]
       ],
       "datasetInfos": [],
       "dbfsResultPath": null,
       "isJsonSchema": true,
       "metadata": {},
       "overflow": false,
       "plotOptions": {
        "customPlotOptions": {},
        "displayType": "table",
        "pivotAggregation": null,
        "pivotColumns": null,
        "xColumns": null,
        "yColumns": null
       },
       "removedWidgets": [],
       "schema": [
        {
         "metadata": "{}",
         "name": "LocationID",
         "type": "\"long\""
        },
        {
         "metadata": "{}",
         "name": "Borough",
         "type": "\"string\""
        },
        {
         "metadata": "{}",
         "name": "Zone",
         "type": "\"string\""
        },
        {
         "metadata": "{}",
         "name": "service_zone",
         "type": "\"string\""
        }
       ],
       "type": "table"
      }
     },
     "output_type": "display_data"
    }
   ],
   "source": [
    "display(zone_names.take(5))"
   ]
  },
  {
   "cell_type": "markdown",
   "metadata": {
    "application/vnd.databricks.v1+cell": {
     "cellMetadata": {},
     "inputWidgets": {},
     "nuid": "99294dd5-92b7-4e50-9623-d00d82da993b",
     "showTitle": false,
     "title": ""
    }
   },
   "source": [
    "## Task 1 - Filter rows\n",
    "\n",
    "**Input:** trips dataset\n",
    "\n",
    "### Task 1.1 - Remove \"0 distance\" and 'no passengers' records\n",
    "\n",
    "Remove dataset rows that represent invalid trips:\n",
    "\n",
    "- Trips where `trip_distance == 0` (no distance travelled)\n",
    "- Trips where `passenger_count == 0` and `total_amount == 0` (we want to retain records where `total_amount` > 0 - these may be significant as the taxi may have carried some parcel, for example)\n",
    "\n",
    "Altogether, a record is removed if it satisfies the following conditions:\n",
    "\n",
    "`trip_distance == 0` or `(passenger_count == 0` and `total_amount == 0)`.\n",
    "\n",
    "**Recommended:** Select only the relevant dataset columns for this and subsequent tasks: `['PULocationID', 'DOLocationID', 'trip_distance', 'passenger_count', 'total_amount')]`\n",
    "\n",
    "### Task 1.2 - Remove outliers using the modified z-score\n",
    "\n",
    "Despite having removed spurious \"zero passengers\" trips in task 1.1, columns `total_amount` and `trip_distance` contain additional outlier values that must be identified and removed.\n",
    "\n",
    "To identify and remove outliers, you will use the modified [z-score](https://en.wikipedia.org/wiki/Standard_score) method.\n",
    "The modified z-score uses the median and [Median Absolute Deviation](https://en.wikipedia.org/wiki/Median_absolute_deviation) (MAD), instead of the mean and standard deviation, to determine how far an observation (indexed by i) is from the mean:\n",
    "\n",
    "$$z_i = \\frac{x_i - \\mathit{median}(\\mathbf{x})}{\\mathbf{MAD}},$$\n",
    "\n",
    "where x represents the input vector, xi is an element of x and zi is its corresponding z-score. In turn, the MAD formula is:\n",
    "\n",
    "$$\\mathbf{MAD} = 1.483 * \\mathit{median}(\\big\\lvert x_i - \\mathit{median}(\\mathbf{x})\\big\\rvert).$$\n",
    "\n",
    "Observations with **high** (absolute) z-score are considered outlier observations. A score is considered **high** if its __absolute z-score__ is larger than a threshold T = 3.5:\n",
    "\n",
    "$$\\big\\lvert z_i \\big\\rvert > 3.5.$$\n",
    "\n",
    "where T represents the number of unit standard deviations beyond which a score is considered an outlier ([wiki](https://en.wikipedia.org/wiki/68%E2%80%9395%E2%80%9399.7_rule)).\n",
    "\n",
    "This process is repeated twice, once for each of the columns `total_amount` and `trip_distance` (in any order).\n",
    "\n",
    "**Important:** Use the surrogate function [`percentile_approx`](https://spark.apache.org/docs/3.2.0/api/python/reference/api/pyspark.sql.functions.percentile_approx.html?highlight=percentile#pyspark.sql.functions.percentile_approx) to estimate the median (calculating the median values for a column is expensive as it cannot be parallelised efficiently)."
   ]
  },
  {
   "cell_type": "code",
   "execution_count": 0,
   "metadata": {
    "application/vnd.databricks.v1+cell": {
     "cellMetadata": {
      "byteLimit": 2048000,
      "rowLimit": 10000
     },
     "inputWidgets": {},
     "nuid": "b53021ef-a0ab-43be-8885-142617707a5c",
     "showTitle": false,
     "title": ""
    }
   },
   "outputs": [],
   "source": [
    "# develop your solution here (create/destroy cells as needed) and then implement it in the functions below"
   ]
  },
  {
   "cell_type": "code",
   "execution_count": 0,
   "metadata": {
    "application/vnd.databricks.v1+cell": {
     "cellMetadata": {
      "byteLimit": 2048000,
      "rowLimit": 10000
     },
     "inputWidgets": {},
     "nuid": "4ac2d5d7-21d4-4bbb-b2ea-0e6e4df89a58",
     "showTitle": false,
     "title": ""
    }
   },
   "outputs": [],
   "source": [
    "# Your solution implementation to task 1.1 goes HERE\n",
    "def t11_remove_zeros(df):\n",
    "    df = df.filter(\n",
    "        (df[\"trip_distance\"] != 0) | (df[\"passenger_count\"] != 0) & (df[\"total_amount\"] != 0)\n",
    "    ).select(['PULocationID', 'DOLocationID', 'trip_distance', 'passenger_count', 'total_amount'])\n",
    "    return df"
   ]
  },
  {
   "cell_type": "code",
   "execution_count": 0,
   "metadata": {
    "application/vnd.databricks.v1+cell": {
     "cellMetadata": {
      "byteLimit": 2048000,
      "rowLimit": 10000
     },
     "inputWidgets": {},
     "nuid": "3c6c287d-8707-4989-8ee9-2967a486c925",
     "showTitle": false,
     "title": ""
    }
   },
   "outputs": [
    {
     "output_type": "stream",
     "name": "stdout",
     "output_type": "stream",
     "text": [
      "Row count: 2,890,208\n"
     ]
    },
    {
     "output_type": "display_data",
     "data": {
      "text/html": [
       "<style scoped>\n",
       "  .table-result-container {\n",
       "    max-height: 300px;\n",
       "    overflow: auto;\n",
       "  }\n",
       "  table, th, td {\n",
       "    border: 1px solid black;\n",
       "    border-collapse: collapse;\n",
       "  }\n",
       "  th, td {\n",
       "    padding: 5px;\n",
       "  }\n",
       "  th {\n",
       "    text-align: left;\n",
       "  }\n",
       "</style><div class='table-result-container'><table class='table-result'><thead style='background-color: white'><tr><th>PULocationID</th><th>DOLocationID</th><th>trip_distance</th><th>passenger_count</th><th>total_amount</th></tr></thead><tbody><tr><td>90</td><td>68</td><td>0.8</td><td>1.0</td><td>8.8</td></tr><tr><td>113</td><td>90</td><td>0.9</td><td>1.0</td><td>8.8</td></tr><tr><td>88</td><td>232</td><td>2.8</td><td>1.0</td><td>13.8</td></tr><tr><td>79</td><td>249</td><td>1.4</td><td>1.0</td><td>12.3</td></tr><tr><td>142</td><td>238</td><td>2.0</td><td>0.0</td><td>12.3</td></tr><tr><td>114</td><td>90</td><td>1.6</td><td>1.0</td><td>12.8</td></tr><tr><td>90</td><td>144</td><td>1.8</td><td>1.0</td><td>13.3</td></tr><tr><td>114</td><td>48</td><td>2.0</td><td>1.0</td><td>14.75</td></tr><tr><td>48</td><td>152</td><td>5.7</td><td>1.0</td><td>22.3</td></tr><tr><td>234</td><td>148</td><td>1.8</td><td>1.0</td><td>14.75</td></tr></tbody></table></div>"
      ]
     },
     "metadata": {
      "application/vnd.databricks.v1+output": {
       "addedWidgets": {},
       "aggData": [],
       "aggError": "",
       "aggOverflow": false,
       "aggSchema": [],
       "aggSeriesLimitReached": false,
       "aggType": "",
       "arguments": {},
       "columnCustomDisplayInfos": {},
       "data": [
        [
         90,
         68,
         0.8,
         1.0,
         8.8
        ],
        [
         113,
         90,
         0.9,
         1.0,
         8.8
        ],
        [
         88,
         232,
         2.8,
         1.0,
         13.8
        ],
        [
         79,
         249,
         1.4,
         1.0,
         12.3
        ],
        [
         142,
         238,
         2.0,
         0.0,
         12.3
        ],
        [
         114,
         90,
         1.6,
         1.0,
         12.8
        ],
        [
         90,
         144,
         1.8,
         1.0,
         13.3
        ],
        [
         114,
         48,
         2.0,
         1.0,
         14.75
        ],
        [
         48,
         152,
         5.7,
         1.0,
         22.3
        ],
        [
         234,
         148,
         1.8,
         1.0,
         14.75
        ]
       ],
       "datasetInfos": [],
       "dbfsResultPath": null,
       "isJsonSchema": true,
       "metadata": {},
       "overflow": false,
       "plotOptions": {
        "customPlotOptions": {},
        "displayType": "table",
        "pivotAggregation": null,
        "pivotColumns": null,
        "xColumns": null,
        "yColumns": null
       },
       "removedWidgets": [],
       "schema": [
        {
         "metadata": "{}",
         "name": "PULocationID",
         "type": "\"long\""
        },
        {
         "metadata": "{}",
         "name": "DOLocationID",
         "type": "\"long\""
        },
        {
         "metadata": "{}",
         "name": "trip_distance",
         "type": "\"double\""
        },
        {
         "metadata": "{}",
         "name": "passenger_count",
         "type": "\"double\""
        },
        {
         "metadata": "{}",
         "name": "total_amount",
         "type": "\"double\""
        }
       ],
       "type": "table"
      }
     },
     "output_type": "display_data"
    }
   ],
   "source": [
    "# execute task 1.1\n",
    "trips_11 = t11_remove_zeros(trips)\n",
    "\n",
    "print_count(trips_11)\n",
    "\n",
    "## uncomment only for smaller datasets\n",
    "display(trips_11.take(10))"
   ]
  },
  {
   "cell_type": "code",
   "execution_count": 0,
   "metadata": {
    "application/vnd.databricks.v1+cell": {
     "cellMetadata": {
      "byteLimit": 2048000,
      "rowLimit": 10000
     },
     "inputWidgets": {},
     "nuid": "c0162cd3-d060-495d-9a86-ebf4a6f507ac",
     "showTitle": false,
     "title": ""
    }
   },
   "outputs": [],
   "source": [
    "# Task 1.2 - Remove outliers using the modified z-score\n",
    "\n",
    "from pyspark.sql.functions import col, abs, expr\n",
    "\n",
    "def t12_remove_outliers(df):\n",
    "    columns = ['total_amount', 'trip_distance']\n",
    "    \n",
    "    for column in columns:\n",
    "        median = df.agg(expr(f\"percentile_approx({column}, 0.5)\")).collect()[0][0]\n",
    "\n",
    "        mad = df.withColumn('mad', abs(col(column) - median))\\\n",
    "                .agg(expr(f\"percentile_approx(mad, 0.5)\"))\\\n",
    "                .collect()[0][0] * 1.483\n",
    "\n",
    "        if mad == 0:\n",
    "            continue\n",
    "\n",
    "        # Apply the filter with the z-score calculation\n",
    "        df = df.filter(\n",
    "            abs((col(column) - median) / mad) <= 3.5\n",
    "        )\n",
    "    \n",
    "    return df\n"
   ]
  },
  {
   "cell_type": "code",
   "execution_count": 0,
   "metadata": {
    "application/vnd.databricks.v1+cell": {
     "cellMetadata": {
      "byteLimit": 2048000,
      "rowLimit": 10000
     },
     "inputWidgets": {},
     "nuid": "96533a0e-242b-42d6-bc10-3b1ea3a13681",
     "showTitle": false,
     "title": ""
    }
   },
   "outputs": [
    {
     "output_type": "stream",
     "name": "stdout",
     "output_type": "stream",
     "text": [
      "Row count: 2,463,077\n"
     ]
    },
    {
     "output_type": "display_data",
     "data": {
      "text/html": [
       "<style scoped>\n",
       "  .table-result-container {\n",
       "    max-height: 300px;\n",
       "    overflow: auto;\n",
       "  }\n",
       "  table, th, td {\n",
       "    border: 1px solid black;\n",
       "    border-collapse: collapse;\n",
       "  }\n",
       "  th, td {\n",
       "    padding: 5px;\n",
       "  }\n",
       "  th {\n",
       "    text-align: left;\n",
       "  }\n",
       "</style><div class='table-result-container'><table class='table-result'><thead style='background-color: white'><tr><th>PULocationID</th><th>DOLocationID</th><th>trip_distance</th><th>passenger_count</th><th>total_amount</th></tr></thead><tbody><tr><td>90</td><td>68</td><td>0.8</td><td>1.0</td><td>8.8</td></tr><tr><td>113</td><td>90</td><td>0.9</td><td>1.0</td><td>8.8</td></tr><tr><td>88</td><td>232</td><td>2.8</td><td>1.0</td><td>13.8</td></tr><tr><td>79</td><td>249</td><td>1.4</td><td>1.0</td><td>12.3</td></tr><tr><td>142</td><td>238</td><td>2.0</td><td>0.0</td><td>12.3</td></tr><tr><td>114</td><td>90</td><td>1.6</td><td>1.0</td><td>12.8</td></tr><tr><td>90</td><td>144</td><td>1.8</td><td>1.0</td><td>13.3</td></tr><tr><td>114</td><td>48</td><td>2.0</td><td>1.0</td><td>14.75</td></tr><tr><td>48</td><td>152</td><td>5.7</td><td>1.0</td><td>22.3</td></tr><tr><td>234</td><td>148</td><td>1.8</td><td>1.0</td><td>14.75</td></tr></tbody></table></div>"
      ]
     },
     "metadata": {
      "application/vnd.databricks.v1+output": {
       "addedWidgets": {},
       "aggData": [],
       "aggError": "",
       "aggOverflow": false,
       "aggSchema": [],
       "aggSeriesLimitReached": false,
       "aggType": "",
       "arguments": {},
       "columnCustomDisplayInfos": {},
       "data": [
        [
         90,
         68,
         0.8,
         1.0,
         8.8
        ],
        [
         113,
         90,
         0.9,
         1.0,
         8.8
        ],
        [
         88,
         232,
         2.8,
         1.0,
         13.8
        ],
        [
         79,
         249,
         1.4,
         1.0,
         12.3
        ],
        [
         142,
         238,
         2.0,
         0.0,
         12.3
        ],
        [
         114,
         90,
         1.6,
         1.0,
         12.8
        ],
        [
         90,
         144,
         1.8,
         1.0,
         13.3
        ],
        [
         114,
         48,
         2.0,
         1.0,
         14.75
        ],
        [
         48,
         152,
         5.7,
         1.0,
         22.3
        ],
        [
         234,
         148,
         1.8,
         1.0,
         14.75
        ]
       ],
       "datasetInfos": [],
       "dbfsResultPath": null,
       "isJsonSchema": true,
       "metadata": {},
       "overflow": false,
       "plotOptions": {
        "customPlotOptions": {},
        "displayType": "table",
        "pivotAggregation": null,
        "pivotColumns": null,
        "xColumns": null,
        "yColumns": null
       },
       "removedWidgets": [],
       "schema": [
        {
         "metadata": "{}",
         "name": "PULocationID",
         "type": "\"long\""
        },
        {
         "metadata": "{}",
         "name": "DOLocationID",
         "type": "\"long\""
        },
        {
         "metadata": "{}",
         "name": "trip_distance",
         "type": "\"double\""
        },
        {
         "metadata": "{}",
         "name": "passenger_count",
         "type": "\"double\""
        },
        {
         "metadata": "{}",
         "name": "total_amount",
         "type": "\"double\""
        }
       ],
       "type": "table"
      }
     },
     "output_type": "display_data"
    }
   ],
   "source": [
    "# execute task 1.2\n",
    "trips_12 = t12_remove_outliers(trips_11)\n",
    "\n",
    "print_count(trips_12)\n",
    "display(trips_12.take(10))"
   ]
  },
  {
   "cell_type": "markdown",
   "metadata": {
    "application/vnd.databricks.v1+cell": {
     "cellMetadata": {},
     "inputWidgets": {},
     "nuid": "77f3f561-5d39-46bf-84fa-0b0c3aafa0cc",
     "showTitle": false,
     "title": ""
    }
   },
   "source": [
    "## Task 2 - Compute new columns\n",
    "\n",
    "### Task 2.1 - Zone names\n",
    "\n",
    "Obtain the **start** and **end** zone names of each trip by joining the `trips` and `zone_names` datasets (i.e. by using the `zone_names` dataset as lookup table).\n",
    "\n",
    "**Note:** The columns containing the start and end zone ids of each trip are named `PULocationID` and `DOLocationID`, respectively.\n",
    "\n",
    "### Task 2.2 - Unit profitability\n",
    "\n",
    "Compute the column `unit_profitability = total_amount / trip_distance`."
   ]
  },
  {
   "cell_type": "code",
   "execution_count": 0,
   "metadata": {
    "application/vnd.databricks.v1+cell": {
     "cellMetadata": {
      "byteLimit": 2048000,
      "rowLimit": 10000
     },
     "inputWidgets": {},
     "nuid": "a61d8288-1539-4f34-856f-98aa7fd0f7f4",
     "showTitle": false,
     "title": ""
    }
   },
   "outputs": [],
   "source": [
    "# develop your solution here (create/destroy cells as needed) and then implement it in the functions below"
   ]
  },
  {
   "cell_type": "code",
   "execution_count": 0,
   "metadata": {
    "application/vnd.databricks.v1+cell": {
     "cellMetadata": {
      "byteLimit": 2048000,
      "rowLimit": 10000
     },
     "inputWidgets": {},
     "nuid": "bf0cd0ff-8d0a-4b46-82de-e2edd56e2f10",
     "showTitle": false,
     "title": ""
    }
   },
   "outputs": [],
   "source": [
    "# Your solution implementation to task 2.1 goes HERE\n",
    "from pyspark.sql.functions import broadcast\n",
    "\n",
    "def t21_join_zones(df, zones_df):\n",
    "    df = df.join(broadcast(zones_df.withColumnRenamed(\"LocationID\", \"PULocationID\").withColumnRenamed(\"Zone\", \"PUZone\")), \"PULocationID\", \"left_outer\")\n",
    "    df = df.join(broadcast(zones_df.withColumnRenamed(\"LocationID\", \"DOLocationID\").withColumnRenamed(\"Zone\", \"DOZone\")), \"DOLocationID\", \"left_outer\")\n",
    "    \n",
    "    return df"
   ]
  },
  {
   "cell_type": "code",
   "execution_count": 0,
   "metadata": {
    "application/vnd.databricks.v1+cell": {
     "cellMetadata": {
      "byteLimit": 2048000,
      "rowLimit": 10000
     },
     "inputWidgets": {},
     "nuid": "6a3abc15-94bb-4352-964f-e3919956b363",
     "showTitle": false,
     "title": ""
    }
   },
   "outputs": [
    {
     "output_type": "stream",
     "name": "stdout",
     "output_type": "stream",
     "text": [
      "Row count: 2,463,077\n"
     ]
    },
    {
     "output_type": "display_data",
     "data": {
      "text/html": [
       "<style scoped>\n",
       "  .table-result-container {\n",
       "    max-height: 300px;\n",
       "    overflow: auto;\n",
       "  }\n",
       "  table, th, td {\n",
       "    border: 1px solid black;\n",
       "    border-collapse: collapse;\n",
       "  }\n",
       "  th, td {\n",
       "    padding: 5px;\n",
       "  }\n",
       "  th {\n",
       "    text-align: left;\n",
       "  }\n",
       "</style><div class='table-result-container'><table class='table-result'><thead style='background-color: white'><tr><th>DOLocationID</th><th>PULocationID</th><th>trip_distance</th><th>passenger_count</th><th>total_amount</th><th>Borough</th><th>PUZone</th><th>service_zone</th><th>Borough</th><th>DOZone</th><th>service_zone</th></tr></thead><tbody><tr><td>68</td><td>90</td><td>0.8</td><td>1.0</td><td>8.8</td><td>Manhattan</td><td>Flatiron</td><td>Yellow Zone</td><td>Manhattan</td><td>East Chelsea</td><td>Yellow Zone</td></tr><tr><td>90</td><td>113</td><td>0.9</td><td>1.0</td><td>8.8</td><td>Manhattan</td><td>Greenwich Village North</td><td>Yellow Zone</td><td>Manhattan</td><td>Flatiron</td><td>Yellow Zone</td></tr><tr><td>232</td><td>88</td><td>2.8</td><td>1.0</td><td>13.8</td><td>Manhattan</td><td>Financial District South</td><td>Yellow Zone</td><td>Manhattan</td><td>Two Bridges/Seward Park</td><td>Yellow Zone</td></tr><tr><td>249</td><td>79</td><td>1.4</td><td>1.0</td><td>12.3</td><td>Manhattan</td><td>East Village</td><td>Yellow Zone</td><td>Manhattan</td><td>West Village</td><td>Yellow Zone</td></tr><tr><td>238</td><td>142</td><td>2.0</td><td>0.0</td><td>12.3</td><td>Manhattan</td><td>Lincoln Square East</td><td>Yellow Zone</td><td>Manhattan</td><td>Upper West Side North</td><td>Yellow Zone</td></tr><tr><td>90</td><td>114</td><td>1.6</td><td>1.0</td><td>12.8</td><td>Manhattan</td><td>Greenwich Village South</td><td>Yellow Zone</td><td>Manhattan</td><td>Flatiron</td><td>Yellow Zone</td></tr><tr><td>144</td><td>90</td><td>1.8</td><td>1.0</td><td>13.3</td><td>Manhattan</td><td>Flatiron</td><td>Yellow Zone</td><td>Manhattan</td><td>Little Italy/NoLiTa</td><td>Yellow Zone</td></tr><tr><td>48</td><td>114</td><td>2.0</td><td>1.0</td><td>14.75</td><td>Manhattan</td><td>Greenwich Village South</td><td>Yellow Zone</td><td>Manhattan</td><td>Clinton East</td><td>Yellow Zone</td></tr><tr><td>152</td><td>48</td><td>5.7</td><td>1.0</td><td>22.3</td><td>Manhattan</td><td>Clinton East</td><td>Yellow Zone</td><td>Manhattan</td><td>Manhattanville</td><td>Boro Zone</td></tr><tr><td>148</td><td>234</td><td>1.8</td><td>1.0</td><td>14.75</td><td>Manhattan</td><td>Union Sq</td><td>Yellow Zone</td><td>Manhattan</td><td>Lower East Side</td><td>Yellow Zone</td></tr></tbody></table></div>"
      ]
     },
     "metadata": {
      "application/vnd.databricks.v1+output": {
       "addedWidgets": {},
       "aggData": [],
       "aggError": "",
       "aggOverflow": false,
       "aggSchema": [],
       "aggSeriesLimitReached": false,
       "aggType": "",
       "arguments": {},
       "columnCustomDisplayInfos": {},
       "data": [
        [
         68,
         90,
         0.8,
         1.0,
         8.8,
         "Manhattan",
         "Flatiron",
         "Yellow Zone",
         "Manhattan",
         "East Chelsea",
         "Yellow Zone"
        ],
        [
         90,
         113,
         0.9,
         1.0,
         8.8,
         "Manhattan",
         "Greenwich Village North",
         "Yellow Zone",
         "Manhattan",
         "Flatiron",
         "Yellow Zone"
        ],
        [
         232,
         88,
         2.8,
         1.0,
         13.8,
         "Manhattan",
         "Financial District South",
         "Yellow Zone",
         "Manhattan",
         "Two Bridges/Seward Park",
         "Yellow Zone"
        ],
        [
         249,
         79,
         1.4,
         1.0,
         12.3,
         "Manhattan",
         "East Village",
         "Yellow Zone",
         "Manhattan",
         "West Village",
         "Yellow Zone"
        ],
        [
         238,
         142,
         2.0,
         0.0,
         12.3,
         "Manhattan",
         "Lincoln Square East",
         "Yellow Zone",
         "Manhattan",
         "Upper West Side North",
         "Yellow Zone"
        ],
        [
         90,
         114,
         1.6,
         1.0,
         12.8,
         "Manhattan",
         "Greenwich Village South",
         "Yellow Zone",
         "Manhattan",
         "Flatiron",
         "Yellow Zone"
        ],
        [
         144,
         90,
         1.8,
         1.0,
         13.3,
         "Manhattan",
         "Flatiron",
         "Yellow Zone",
         "Manhattan",
         "Little Italy/NoLiTa",
         "Yellow Zone"
        ],
        [
         48,
         114,
         2.0,
         1.0,
         14.75,
         "Manhattan",
         "Greenwich Village South",
         "Yellow Zone",
         "Manhattan",
         "Clinton East",
         "Yellow Zone"
        ],
        [
         152,
         48,
         5.7,
         1.0,
         22.3,
         "Manhattan",
         "Clinton East",
         "Yellow Zone",
         "Manhattan",
         "Manhattanville",
         "Boro Zone"
        ],
        [
         148,
         234,
         1.8,
         1.0,
         14.75,
         "Manhattan",
         "Union Sq",
         "Yellow Zone",
         "Manhattan",
         "Lower East Side",
         "Yellow Zone"
        ]
       ],
       "datasetInfos": [],
       "dbfsResultPath": null,
       "isJsonSchema": true,
       "metadata": {},
       "overflow": false,
       "plotOptions": {
        "customPlotOptions": {},
        "displayType": "table",
        "pivotAggregation": null,
        "pivotColumns": null,
        "xColumns": null,
        "yColumns": null
       },
       "removedWidgets": [],
       "schema": [
        {
         "metadata": "{}",
         "name": "DOLocationID",
         "type": "\"long\""
        },
        {
         "metadata": "{}",
         "name": "PULocationID",
         "type": "\"long\""
        },
        {
         "metadata": "{}",
         "name": "trip_distance",
         "type": "\"double\""
        },
        {
         "metadata": "{}",
         "name": "passenger_count",
         "type": "\"double\""
        },
        {
         "metadata": "{}",
         "name": "total_amount",
         "type": "\"double\""
        },
        {
         "metadata": "{}",
         "name": "Borough",
         "type": "\"string\""
        },
        {
         "metadata": "{}",
         "name": "PUZone",
         "type": "\"string\""
        },
        {
         "metadata": "{}",
         "name": "service_zone",
         "type": "\"string\""
        },
        {
         "metadata": "{}",
         "name": "Borough",
         "type": "\"string\""
        },
        {
         "metadata": "{}",
         "name": "DOZone",
         "type": "\"string\""
        },
        {
         "metadata": "{}",
         "name": "service_zone",
         "type": "\"string\""
        }
       ],
       "type": "table"
      }
     },
     "output_type": "display_data"
    }
   ],
   "source": [
    "# execute task 2.1\n",
    "trips_21 = t21_join_zones(trips_12, zones_df = zone_names)\n",
    "\n",
    "print_count(trips_21)\n",
    "display(trips_21.take(10))"
   ]
  },
  {
   "cell_type": "code",
   "execution_count": 0,
   "metadata": {
    "application/vnd.databricks.v1+cell": {
     "cellMetadata": {
      "byteLimit": 2048000,
      "rowLimit": 10000
     },
     "inputWidgets": {},
     "nuid": "244ecaed-2632-4ed1-ab91-e41d8a91b7c2",
     "showTitle": false,
     "title": ""
    }
   },
   "outputs": [],
   "source": [
    "# Your solution implementation to task 2.2 goes HERE\n",
    "def t22_calc_profit(df):\n",
    "    df = df.withColumn(\"unit_profitability\", col(\"total_amount\") / col(\"trip_distance\"))\n",
    "    \n",
    "    return df\n"
   ]
  },
  {
   "cell_type": "code",
   "execution_count": 0,
   "metadata": {
    "application/vnd.databricks.v1+cell": {
     "cellMetadata": {
      "byteLimit": 2048000,
      "rowLimit": 10000
     },
     "inputWidgets": {},
     "nuid": "a3528be7-4fe2-4e68-a94b-a3b33ada952c",
     "showTitle": false,
     "title": ""
    }
   },
   "outputs": [
    {
     "output_type": "stream",
     "name": "stdout",
     "output_type": "stream",
     "text": [
      "Row count: 2,463,077\n"
     ]
    },
    {
     "output_type": "display_data",
     "data": {
      "text/html": [
       "<style scoped>\n",
       "  .table-result-container {\n",
       "    max-height: 300px;\n",
       "    overflow: auto;\n",
       "  }\n",
       "  table, th, td {\n",
       "    border: 1px solid black;\n",
       "    border-collapse: collapse;\n",
       "  }\n",
       "  th, td {\n",
       "    padding: 5px;\n",
       "  }\n",
       "  th {\n",
       "    text-align: left;\n",
       "  }\n",
       "</style><div class='table-result-container'><table class='table-result'><thead style='background-color: white'><tr><th>DOLocationID</th><th>PULocationID</th><th>trip_distance</th><th>passenger_count</th><th>total_amount</th><th>Borough</th><th>PUZone</th><th>service_zone</th><th>Borough</th><th>DOZone</th><th>service_zone</th><th>unit_profitability</th></tr></thead><tbody><tr><td>68</td><td>90</td><td>0.8</td><td>1.0</td><td>8.8</td><td>Manhattan</td><td>Flatiron</td><td>Yellow Zone</td><td>Manhattan</td><td>East Chelsea</td><td>Yellow Zone</td><td>11.0</td></tr><tr><td>90</td><td>113</td><td>0.9</td><td>1.0</td><td>8.8</td><td>Manhattan</td><td>Greenwich Village North</td><td>Yellow Zone</td><td>Manhattan</td><td>Flatiron</td><td>Yellow Zone</td><td>9.777777777777779</td></tr><tr><td>232</td><td>88</td><td>2.8</td><td>1.0</td><td>13.8</td><td>Manhattan</td><td>Financial District South</td><td>Yellow Zone</td><td>Manhattan</td><td>Two Bridges/Seward Park</td><td>Yellow Zone</td><td>4.928571428571429</td></tr><tr><td>249</td><td>79</td><td>1.4</td><td>1.0</td><td>12.3</td><td>Manhattan</td><td>East Village</td><td>Yellow Zone</td><td>Manhattan</td><td>West Village</td><td>Yellow Zone</td><td>8.785714285714286</td></tr><tr><td>238</td><td>142</td><td>2.0</td><td>0.0</td><td>12.3</td><td>Manhattan</td><td>Lincoln Square East</td><td>Yellow Zone</td><td>Manhattan</td><td>Upper West Side North</td><td>Yellow Zone</td><td>6.15</td></tr><tr><td>90</td><td>114</td><td>1.6</td><td>1.0</td><td>12.8</td><td>Manhattan</td><td>Greenwich Village South</td><td>Yellow Zone</td><td>Manhattan</td><td>Flatiron</td><td>Yellow Zone</td><td>8.0</td></tr><tr><td>144</td><td>90</td><td>1.8</td><td>1.0</td><td>13.3</td><td>Manhattan</td><td>Flatiron</td><td>Yellow Zone</td><td>Manhattan</td><td>Little Italy/NoLiTa</td><td>Yellow Zone</td><td>7.388888888888889</td></tr><tr><td>48</td><td>114</td><td>2.0</td><td>1.0</td><td>14.75</td><td>Manhattan</td><td>Greenwich Village South</td><td>Yellow Zone</td><td>Manhattan</td><td>Clinton East</td><td>Yellow Zone</td><td>7.375</td></tr><tr><td>152</td><td>48</td><td>5.7</td><td>1.0</td><td>22.3</td><td>Manhattan</td><td>Clinton East</td><td>Yellow Zone</td><td>Manhattan</td><td>Manhattanville</td><td>Boro Zone</td><td>3.912280701754386</td></tr><tr><td>148</td><td>234</td><td>1.8</td><td>1.0</td><td>14.75</td><td>Manhattan</td><td>Union Sq</td><td>Yellow Zone</td><td>Manhattan</td><td>Lower East Side</td><td>Yellow Zone</td><td>8.194444444444445</td></tr></tbody></table></div>"
      ]
     },
     "metadata": {
      "application/vnd.databricks.v1+output": {
       "addedWidgets": {},
       "aggData": [],
       "aggError": "",
       "aggOverflow": false,
       "aggSchema": [],
       "aggSeriesLimitReached": false,
       "aggType": "",
       "arguments": {},
       "columnCustomDisplayInfos": {},
       "data": [
        [
         68,
         90,
         0.8,
         1.0,
         8.8,
         "Manhattan",
         "Flatiron",
         "Yellow Zone",
         "Manhattan",
         "East Chelsea",
         "Yellow Zone",
         11.0
        ],
        [
         90,
         113,
         0.9,
         1.0,
         8.8,
         "Manhattan",
         "Greenwich Village North",
         "Yellow Zone",
         "Manhattan",
         "Flatiron",
         "Yellow Zone",
         9.777777777777779
        ],
        [
         232,
         88,
         2.8,
         1.0,
         13.8,
         "Manhattan",
         "Financial District South",
         "Yellow Zone",
         "Manhattan",
         "Two Bridges/Seward Park",
         "Yellow Zone",
         4.928571428571429
        ],
        [
         249,
         79,
         1.4,
         1.0,
         12.3,
         "Manhattan",
         "East Village",
         "Yellow Zone",
         "Manhattan",
         "West Village",
         "Yellow Zone",
         8.785714285714286
        ],
        [
         238,
         142,
         2.0,
         0.0,
         12.3,
         "Manhattan",
         "Lincoln Square East",
         "Yellow Zone",
         "Manhattan",
         "Upper West Side North",
         "Yellow Zone",
         6.15
        ],
        [
         90,
         114,
         1.6,
         1.0,
         12.8,
         "Manhattan",
         "Greenwich Village South",
         "Yellow Zone",
         "Manhattan",
         "Flatiron",
         "Yellow Zone",
         8.0
        ],
        [
         144,
         90,
         1.8,
         1.0,
         13.3,
         "Manhattan",
         "Flatiron",
         "Yellow Zone",
         "Manhattan",
         "Little Italy/NoLiTa",
         "Yellow Zone",
         7.388888888888889
        ],
        [
         48,
         114,
         2.0,
         1.0,
         14.75,
         "Manhattan",
         "Greenwich Village South",
         "Yellow Zone",
         "Manhattan",
         "Clinton East",
         "Yellow Zone",
         7.375
        ],
        [
         152,
         48,
         5.7,
         1.0,
         22.3,
         "Manhattan",
         "Clinton East",
         "Yellow Zone",
         "Manhattan",
         "Manhattanville",
         "Boro Zone",
         3.912280701754386
        ],
        [
         148,
         234,
         1.8,
         1.0,
         14.75,
         "Manhattan",
         "Union Sq",
         "Yellow Zone",
         "Manhattan",
         "Lower East Side",
         "Yellow Zone",
         8.194444444444445
        ]
       ],
       "datasetInfos": [],
       "dbfsResultPath": null,
       "isJsonSchema": true,
       "metadata": {},
       "overflow": false,
       "plotOptions": {
        "customPlotOptions": {},
        "displayType": "table",
        "pivotAggregation": null,
        "pivotColumns": null,
        "xColumns": null,
        "yColumns": null
       },
       "removedWidgets": [],
       "schema": [
        {
         "metadata": "{}",
         "name": "DOLocationID",
         "type": "\"long\""
        },
        {
         "metadata": "{}",
         "name": "PULocationID",
         "type": "\"long\""
        },
        {
         "metadata": "{}",
         "name": "trip_distance",
         "type": "\"double\""
        },
        {
         "metadata": "{}",
         "name": "passenger_count",
         "type": "\"double\""
        },
        {
         "metadata": "{}",
         "name": "total_amount",
         "type": "\"double\""
        },
        {
         "metadata": "{}",
         "name": "Borough",
         "type": "\"string\""
        },
        {
         "metadata": "{}",
         "name": "PUZone",
         "type": "\"string\""
        },
        {
         "metadata": "{}",
         "name": "service_zone",
         "type": "\"string\""
        },
        {
         "metadata": "{}",
         "name": "Borough",
         "type": "\"string\""
        },
        {
         "metadata": "{}",
         "name": "DOZone",
         "type": "\"string\""
        },
        {
         "metadata": "{}",
         "name": "service_zone",
         "type": "\"string\""
        },
        {
         "metadata": "{}",
         "name": "unit_profitability",
         "type": "\"double\""
        }
       ],
       "type": "table"
      }
     },
     "output_type": "display_data"
    }
   ],
   "source": [
    "# execute task 2.2\n",
    "trips_22 = t22_calc_profit(trips_21)\n",
    "\n",
    "print_count(trips_22)\n",
    "display(trips_22.take(10))"
   ]
  },
  {
   "cell_type": "markdown",
   "metadata": {
    "application/vnd.databricks.v1+cell": {
     "cellMetadata": {},
     "inputWidgets": {},
     "nuid": "93c4a6e7-512f-40a8-ad2c-41a84ade373f",
     "showTitle": false,
     "title": ""
    }
   },
   "source": [
    "## Task 3: Rank zones by traffic, passenger volume and profitability\n",
    "\n",
    "### 3.1 - Summarise interzonal travel\n",
    "\n",
    "Build a graph data structure of zone-to-zone traffic, representing aggregated data about trips between any two zones. The graph will have one node for each zone and one edge connecting each pair of zones. In addition, edges contain aggregate information about all trips between those zones. \n",
    "\n",
    "For example, zones Z1 and Z2 are connected by *two* edges: edge Z1 --> Z2 carries aggregate data about all trips that originated in Z1 and ended in Z2, and edge Z2 --> Z1 carries aggregate data about all trips that originated in Z2 and ended in Z1.\n",
    "\n",
    "The aggregate information of interzonal travel must include the following data:\n",
    "\n",
    "- `average_unit_profit` - the average unit profitability (calculated as `mean(unit_profitability)`).\n",
    "- `trips_count` -- the total number of recorded trips.\n",
    "- `total_passengers` -- the total number of passenger across all trips (sum of `passenger_count`).\n",
    "\n",
    "This graph can be represented as a new dataframe, with schema:\n",
    "\n",
    "\\[`PULocationID`, `DOLocationID`, `average_unit_profit`, `trips_count`, `total_passengers` \\]\n",
    "\n",
    "__hint__: the `groupby()` operator produces a `pyspark.sql.GroupedData` structure. You can then calculate multiple aggregations from this using `pyspark.sql.GroupedData.agg()`: \n",
    "- https://spark.apache.org/docs/3.2.0/api/python/reference/pyspark.pandas/api/pyspark.pandas.DataFrame.groupby.html\n",
    "- https://spark.apache.org/docs/3.2.0/api/python/reference/api/pyspark.sql.GroupedData.agg.html\n",
    "\n",
    "### Task 3.2 - Obtain top-10 zones\n",
    "\n",
    "For each of the following measures, report the top-10 zones _using their plain names you dereferenced in the previous step, not the codes_. Note that this requires ranking the nodes in different orders. Specifically, you need to calculate the following further aggregations:\n",
    "\n",
    "- the **total** number of trips originating from Z. This is simply the sum of `trips_count` over all outgoing edges for Z, i.e., edges of the form Z -> \\*\n",
    "- the **average** profitability of a zone. This is the average of all `average_unit_profit` over all *outgoing* edges from Z.\n",
    "- The **total** passenger volume measured as the **sum** of `total_passengers` carried in trips that originate from Z"
   ]
  },
  {
   "cell_type": "code",
   "execution_count": 0,
   "metadata": {
    "application/vnd.databricks.v1+cell": {
     "cellMetadata": {
      "byteLimit": 2048000,
      "rowLimit": 10000
     },
     "inputWidgets": {},
     "nuid": "069fc68b-acdd-47c2-be12-27d32b7916c8",
     "showTitle": false,
     "title": ""
    }
   },
   "outputs": [],
   "source": [
    "# develop your solution here (create/destroy cells as needed) and then implement it in the functions below"
   ]
  },
  {
   "cell_type": "code",
   "execution_count": 0,
   "metadata": {
    "application/vnd.databricks.v1+cell": {
     "cellMetadata": {
      "byteLimit": 2048000,
      "rowLimit": 10000
     },
     "inputWidgets": {},
     "nuid": "38084194-2635-46aa-ac74-93509c03a86e",
     "showTitle": false,
     "title": ""
    }
   },
   "outputs": [],
   "source": [
    "## Your solution to task 3.1 goes HERE\n",
    "from pyspark.sql.functions import mean, count, sum\n",
    "\n",
    "def t31_summarise_trips(df):\n",
    "    graph = df.groupBy(\"PULocationID\", \"DOLocationID\").agg(\n",
    "        mean(\"unit_profitability\").alias(\"average_unit_profit\"),\n",
    "        count(\"*\").alias(\"trips_count\"),\n",
    "        sum(\"passenger_count\").alias(\"total_passengers\")\n",
    "    )\n",
    "    return graph\n"
   ]
  },
  {
   "cell_type": "code",
   "execution_count": 0,
   "metadata": {
    "application/vnd.databricks.v1+cell": {
     "cellMetadata": {
      "byteLimit": 2048000,
      "rowLimit": 10000
     },
     "inputWidgets": {},
     "nuid": "b81c74ad-e5f1-4b69-a320-bdf375b94e8d",
     "showTitle": false,
     "title": ""
    }
   },
   "outputs": [
    {
     "output_type": "stream",
     "name": "stdout",
     "output_type": "stream",
     "text": [
      "Row count: 14,455\n"
     ]
    },
    {
     "output_type": "display_data",
     "data": {
      "text/html": [
       "<style scoped>\n",
       "  .table-result-container {\n",
       "    max-height: 300px;\n",
       "    overflow: auto;\n",
       "  }\n",
       "  table, th, td {\n",
       "    border: 1px solid black;\n",
       "    border-collapse: collapse;\n",
       "  }\n",
       "  th, td {\n",
       "    padding: 5px;\n",
       "  }\n",
       "  th {\n",
       "    text-align: left;\n",
       "  }\n",
       "</style><div class='table-result-container'><table class='table-result'><thead style='background-color: white'><tr><th>PULocationID</th><th>DOLocationID</th><th>average_unit_profit</th><th>trips_count</th><th>total_passengers</th></tr></thead><tbody><tr><td>90</td><td>231</td><td>7.432778991914051</td><td>1123</td><td>1576.0</td></tr><tr><td>87</td><td>33</td><td>6.817160729833857</td><td>105</td><td>145.0</td></tr><tr><td>90</td><td>142</td><td>6.873745233124353</td><td>909</td><td>1279.0</td></tr><tr><td>114</td><td>100</td><td>7.480600705110231</td><td>466</td><td>707.0</td></tr><tr><td>234</td><td>144</td><td>9.131779529653814</td><td>1488</td><td>2187.0</td></tr><tr><td>148</td><td>262</td><td>4.89353554100773</td><td>239</td><td>356.0</td></tr><tr><td>246</td><td>249</td><td>8.820105729239454</td><td>1150</td><td>1713.0</td></tr><tr><td>170</td><td>179</td><td>5.138416672570028</td><td>80</td><td>103.0</td></tr><tr><td>48</td><td>232</td><td>5.478542842122207</td><td>329</td><td>474.0</td></tr><tr><td>142</td><td>144</td><td>5.799719215582247</td><td>343</td><td>482.0</td></tr></tbody></table></div>"
      ]
     },
     "metadata": {
      "application/vnd.databricks.v1+output": {
       "addedWidgets": {},
       "aggData": [],
       "aggError": "",
       "aggOverflow": false,
       "aggSchema": [],
       "aggSeriesLimitReached": false,
       "aggType": "",
       "arguments": {},
       "columnCustomDisplayInfos": {},
       "data": [
        [
         90,
         231,
         7.432778991914051,
         1123,
         1576.0
        ],
        [
         87,
         33,
         6.817160729833857,
         105,
         145.0
        ],
        [
         90,
         142,
         6.873745233124353,
         909,
         1279.0
        ],
        [
         114,
         100,
         7.480600705110231,
         466,
         707.0
        ],
        [
         234,
         144,
         9.131779529653814,
         1488,
         2187.0
        ],
        [
         148,
         262,
         4.89353554100773,
         239,
         356.0
        ],
        [
         246,
         249,
         8.820105729239454,
         1150,
         1713.0
        ],
        [
         170,
         179,
         5.138416672570028,
         80,
         103.0
        ],
        [
         48,
         232,
         5.478542842122207,
         329,
         474.0
        ],
        [
         142,
         144,
         5.799719215582247,
         343,
         482.0
        ]
       ],
       "datasetInfos": [],
       "dbfsResultPath": null,
       "isJsonSchema": true,
       "metadata": {},
       "overflow": false,
       "plotOptions": {
        "customPlotOptions": {},
        "displayType": "table",
        "pivotAggregation": null,
        "pivotColumns": null,
        "xColumns": null,
        "yColumns": null
       },
       "removedWidgets": [],
       "schema": [
        {
         "metadata": "{}",
         "name": "PULocationID",
         "type": "\"long\""
        },
        {
         "metadata": "{}",
         "name": "DOLocationID",
         "type": "\"long\""
        },
        {
         "metadata": "{}",
         "name": "average_unit_profit",
         "type": "\"double\""
        },
        {
         "metadata": "{}",
         "name": "trips_count",
         "type": "\"long\""
        },
        {
         "metadata": "{}",
         "name": "total_passengers",
         "type": "\"double\""
        }
       ],
       "type": "table"
      }
     },
     "output_type": "display_data"
    }
   ],
   "source": [
    "# execute task 3.1\n",
    "graph = t31_summarise_trips(trips_22)\n",
    "\n",
    "print_count(graph)\n",
    "display(graph.take(10))"
   ]
  },
  {
   "cell_type": "code",
   "execution_count": 0,
   "metadata": {
    "application/vnd.databricks.v1+cell": {
     "cellMetadata": {
      "byteLimit": 2048000,
      "rowLimit": 10000
     },
     "inputWidgets": {},
     "nuid": "c285cd2d-861b-4790-8fe8-4b4b6cdbc8f4",
     "showTitle": false,
     "title": ""
    }
   },
   "outputs": [],
   "source": [
    "# Your solution to task 3.2 goes HERE (implement each of the functions below)\n",
    "def t32_summarise_zones_pairs(graph_df, zones_df = zone_names):\n",
    "    # Join graph with zone names for pickup locations\n",
    "    graph_with_zones = graph_df.join(broadcast(zones_df.withColumnRenamed(\"LocationID\", \"PULocationID\").withColumnRenamed(\"Zone\", \"PUZone\")), \"PULocationID\", \"left_outer\")\n",
    "    \n",
    "    # Aggregate by PUZone to get metrics for each zone\n",
    "    zones_agg = graph_with_zones.groupBy(\"PUZone\").agg(\n",
    "        sum(\"trips_count\").alias(\"total_trips\"),\n",
    "        mean(\"average_unit_profit\").alias(\"average_profitability\"),\n",
    "        sum(\"total_passengers\").alias(\"total_passengers\")\n",
    "    )\n",
    "\n",
    "    return zones_agg\n",
    "\n",
    "\n",
    "# Top 10 ranked zones by traffic (trip volume)\n",
    "def t32_top10_trips(df_zones):\n",
    "    return df_zones.orderBy(col(\"total_trips\").desc()).take(10)\n",
    "\n",
    "\n",
    "# Top 10 ranked zones by profit\n",
    "def t32_top10_profit(df_zones):\n",
    "    return df_zones.orderBy(col(\"average_profitability\").desc()).take(10)\n",
    "\n",
    "# Top 10 ranked zones by passengers\n",
    "def t32_top10_passenger(df_zones):\n",
    "    return df_zones.orderBy(col(\"total_passengers\").desc()).take(10)\n"
   ]
  },
  {
   "cell_type": "code",
   "execution_count": 0,
   "metadata": {
    "application/vnd.databricks.v1+cell": {
     "cellMetadata": {
      "byteLimit": 2048000,
      "rowLimit": 10000
     },
     "inputWidgets": {},
     "nuid": "0bb32624-cca2-461e-816d-c49ecc98374e",
     "showTitle": false,
     "title": ""
    }
   },
   "outputs": [],
   "source": [
    "# execute task 3.2\n",
    "zones = t32_summarise_zones_pairs(graph)\n",
    "\n",
    "top10_trips     = t32_top10_trips(zones)\n",
    "top10_profit    = t32_top10_profit(zones)\n",
    "top10_passenger = t32_top10_passenger(zones)"
   ]
  },
  {
   "cell_type": "code",
   "execution_count": 0,
   "metadata": {
    "application/vnd.databricks.v1+cell": {
     "cellMetadata": {
      "byteLimit": 2048000,
      "rowLimit": 10000
     },
     "inputWidgets": {},
     "nuid": "382adcca-e15c-45d2-88bf-6ae97b8c6e30",
     "showTitle": false,
     "title": ""
    }
   },
   "outputs": [
    {
     "output_type": "display_data",
     "data": {
      "text/html": [
       "<style scoped>\n",
       "  .table-result-container {\n",
       "    max-height: 300px;\n",
       "    overflow: auto;\n",
       "  }\n",
       "  table, th, td {\n",
       "    border: 1px solid black;\n",
       "    border-collapse: collapse;\n",
       "  }\n",
       "  th, td {\n",
       "    padding: 5px;\n",
       "  }\n",
       "  th {\n",
       "    text-align: left;\n",
       "  }\n",
       "</style><div class='table-result-container'><table class='table-result'><thead style='background-color: white'><tr><th>PUZone</th><th>total_trips</th><th>average_profitability</th><th>total_passengers</th></tr></thead><tbody><tr><td>Upper East Side South</td><td>121811</td><td>6.905632960330168</td><td>169800.0</td></tr><tr><td>Upper East Side North</td><td>103449</td><td>7.090884640881556</td><td>143579.0</td></tr><tr><td>Penn Station/Madison Sq West</td><td>96361</td><td>7.918537727903516</td><td>136625.0</td></tr><tr><td>Midtown Center</td><td>93275</td><td>7.6860915333769055</td><td>134263.0</td></tr><tr><td>Murray Hill</td><td>87914</td><td>7.757619426672339</td><td>123110.0</td></tr><tr><td>Midtown East</td><td>84533</td><td>7.45525586506237</td><td>118884.0</td></tr><tr><td>Lincoln Square East</td><td>80632</td><td>7.572146532069324</td><td>114275.0</td></tr><tr><td>Upper West Side South</td><td>74165</td><td>6.9206408211866135</td><td>105037.0</td></tr><tr><td>Clinton East</td><td>74123</td><td>8.940849065869886</td><td>106488.0</td></tr><tr><td>Lenox Hill West</td><td>73950</td><td>6.5210824289445934</td><td>103161.0</td></tr></tbody></table></div>"
      ]
     },
     "metadata": {
      "application/vnd.databricks.v1+output": {
       "addedWidgets": {},
       "aggData": [],
       "aggError": "",
       "aggOverflow": false,
       "aggSchema": [],
       "aggSeriesLimitReached": false,
       "aggType": "",
       "arguments": {},
       "columnCustomDisplayInfos": {},
       "data": [
        [
         "Upper East Side South",
         121811,
         6.905632960330168,
         169800.0
        ],
        [
         "Upper East Side North",
         103449,
         7.090884640881556,
         143579.0
        ],
        [
         "Penn Station/Madison Sq West",
         96361,
         7.918537727903516,
         136625.0
        ],
        [
         "Midtown Center",
         93275,
         7.6860915333769055,
         134263.0
        ],
        [
         "Murray Hill",
         87914,
         7.757619426672339,
         123110.0
        ],
        [
         "Midtown East",
         84533,
         7.45525586506237,
         118884.0
        ],
        [
         "Lincoln Square East",
         80632,
         7.572146532069324,
         114275.0
        ],
        [
         "Upper West Side South",
         74165,
         6.9206408211866135,
         105037.0
        ],
        [
         "Clinton East",
         74123,
         8.940849065869886,
         106488.0
        ],
        [
         "Lenox Hill West",
         73950,
         6.5210824289445934,
         103161.0
        ]
       ],
       "datasetInfos": [],
       "dbfsResultPath": null,
       "isJsonSchema": true,
       "metadata": {},
       "overflow": false,
       "plotOptions": {
        "customPlotOptions": {},
        "displayType": "table",
        "pivotAggregation": null,
        "pivotColumns": null,
        "xColumns": null,
        "yColumns": null
       },
       "removedWidgets": [],
       "schema": [
        {
         "metadata": "{}",
         "name": "PUZone",
         "type": "\"string\""
        },
        {
         "metadata": "{}",
         "name": "total_trips",
         "type": "\"long\""
        },
        {
         "metadata": "{}",
         "name": "average_profitability",
         "type": "\"double\""
        },
        {
         "metadata": "{}",
         "name": "total_passengers",
         "type": "\"double\""
        }
       ],
       "type": "table"
      }
     },
     "output_type": "display_data"
    }
   ],
   "source": [
    "# use 'display()' or return a pandas DataFrame for 'pretty' output\n",
    "display(top10_trips)"
   ]
  },
  {
   "cell_type": "code",
   "execution_count": 0,
   "metadata": {
    "application/vnd.databricks.v1+cell": {
     "cellMetadata": {
      "byteLimit": 2048000,
      "rowLimit": 10000
     },
     "inputWidgets": {},
     "nuid": "847abfd1-7424-43c0-976e-5c615736a56b",
     "showTitle": false,
     "title": ""
    }
   },
   "outputs": [
    {
     "output_type": "display_data",
     "data": {
      "text/html": [
       "<style scoped>\n",
       "  .table-result-container {\n",
       "    max-height: 300px;\n",
       "    overflow: auto;\n",
       "  }\n",
       "  table, th, td {\n",
       "    border: 1px solid black;\n",
       "    border-collapse: collapse;\n",
       "  }\n",
       "  th, td {\n",
       "    padding: 5px;\n",
       "  }\n",
       "  th {\n",
       "    text-align: left;\n",
       "  }\n",
       "</style><div class='table-result-container'><table class='table-result'><thead style='background-color: white'><tr><th>PUZone</th><th>total_trips</th><th>average_profitability</th><th>total_passengers</th></tr></thead><tbody><tr><td>Bay Terrace/Fort Totten</td><td>57</td><td>373.64352610622007</td><td>18.0</td></tr><tr><td>Baisley Park</td><td>355</td><td>106.86575379124723</td><td>153.0</td></tr><tr><td>Saint Michaels Cemetery/Woodside</td><td>300</td><td>103.12501378067475</td><td>366.0</td></tr><tr><td>Prospect Park</td><td>76</td><td>90.59317954859831</td><td>67.0</td></tr><tr><td>Van Cortlandt Village</td><td>231</td><td>59.391859123131994</td><td>93.0</td></tr><tr><td>Glen Oaks</td><td>27</td><td>48.41059594606823</td><td>12.0</td></tr><tr><td>Grymes Hill/Clifton</td><td>5</td><td>38.65</td><td>5.0</td></tr><tr><td>Crotona Park</td><td>8</td><td>36.84437137879828</td><td>6.0</td></tr><tr><td>Eastchester</td><td>142</td><td>35.01882481592064</td><td>19.0</td></tr><tr><td>Flatbush/Ditmas Park</td><td>719</td><td>35.000379842565565</td><td>181.0</td></tr></tbody></table></div>"
      ]
     },
     "metadata": {
      "application/vnd.databricks.v1+output": {
       "addedWidgets": {},
       "aggData": [],
       "aggError": "",
       "aggOverflow": false,
       "aggSchema": [],
       "aggSeriesLimitReached": false,
       "aggType": "",
       "arguments": {},
       "columnCustomDisplayInfos": {},
       "data": [
        [
         "Bay Terrace/Fort Totten",
         57,
         373.64352610622007,
         18.0
        ],
        [
         "Baisley Park",
         355,
         106.86575379124723,
         153.0
        ],
        [
         "Saint Michaels Cemetery/Woodside",
         300,
         103.12501378067475,
         366.0
        ],
        [
         "Prospect Park",
         76,
         90.59317954859831,
         67.0
        ],
        [
         "Van Cortlandt Village",
         231,
         59.391859123131994,
         93.0
        ],
        [
         "Glen Oaks",
         27,
         48.41059594606823,
         12.0
        ],
        [
         "Grymes Hill/Clifton",
         5,
         38.65,
         5.0
        ],
        [
         "Crotona Park",
         8,
         36.84437137879828,
         6.0
        ],
        [
         "Eastchester",
         142,
         35.01882481592064,
         19.0
        ],
        [
         "Flatbush/Ditmas Park",
         719,
         35.000379842565565,
         181.0
        ]
       ],
       "datasetInfos": [],
       "dbfsResultPath": null,
       "isJsonSchema": true,
       "metadata": {},
       "overflow": false,
       "plotOptions": {
        "customPlotOptions": {},
        "displayType": "table",
        "pivotAggregation": null,
        "pivotColumns": null,
        "xColumns": null,
        "yColumns": null
       },
       "removedWidgets": [],
       "schema": [
        {
         "metadata": "{}",
         "name": "PUZone",
         "type": "\"string\""
        },
        {
         "metadata": "{}",
         "name": "total_trips",
         "type": "\"long\""
        },
        {
         "metadata": "{}",
         "name": "average_profitability",
         "type": "\"double\""
        },
        {
         "metadata": "{}",
         "name": "total_passengers",
         "type": "\"double\""
        }
       ],
       "type": "table"
      }
     },
     "output_type": "display_data"
    }
   ],
   "source": [
    "# use 'display()' return a pandas DataFrame for 'pretty' output\n",
    "display(top10_profit)"
   ]
  },
  {
   "cell_type": "code",
   "execution_count": 0,
   "metadata": {
    "application/vnd.databricks.v1+cell": {
     "cellMetadata": {
      "byteLimit": 2048000,
      "rowLimit": 10000
     },
     "inputWidgets": {},
     "nuid": "90eb7561-5775-4e6a-8317-473f311e4cfe",
     "showTitle": false,
     "title": ""
    }
   },
   "outputs": [
    {
     "output_type": "display_data",
     "data": {
      "text/html": [
       "<style scoped>\n",
       "  .table-result-container {\n",
       "    max-height: 300px;\n",
       "    overflow: auto;\n",
       "  }\n",
       "  table, th, td {\n",
       "    border: 1px solid black;\n",
       "    border-collapse: collapse;\n",
       "  }\n",
       "  th, td {\n",
       "    padding: 5px;\n",
       "  }\n",
       "  th {\n",
       "    text-align: left;\n",
       "  }\n",
       "</style><div class='table-result-container'><table class='table-result'><thead style='background-color: white'><tr><th>PUZone</th><th>total_trips</th><th>average_profitability</th><th>total_passengers</th></tr></thead><tbody><tr><td>Upper East Side South</td><td>121811</td><td>6.905632960330168</td><td>169800.0</td></tr><tr><td>Upper East Side North</td><td>103449</td><td>7.090884640881556</td><td>143579.0</td></tr><tr><td>Penn Station/Madison Sq West</td><td>96361</td><td>7.918537727903516</td><td>136625.0</td></tr><tr><td>Midtown Center</td><td>93275</td><td>7.6860915333769055</td><td>134263.0</td></tr><tr><td>Murray Hill</td><td>87914</td><td>7.757619426672339</td><td>123110.0</td></tr><tr><td>Midtown East</td><td>84533</td><td>7.45525586506237</td><td>118884.0</td></tr><tr><td>Lincoln Square East</td><td>80632</td><td>7.572146532069324</td><td>114275.0</td></tr><tr><td>Clinton East</td><td>74123</td><td>8.940849065869886</td><td>106488.0</td></tr><tr><td>Upper West Side South</td><td>74165</td><td>6.9206408211866135</td><td>105037.0</td></tr><tr><td>Union Sq</td><td>73365</td><td>7.57410265222722</td><td>104832.0</td></tr></tbody></table></div>"
      ]
     },
     "metadata": {
      "application/vnd.databricks.v1+output": {
       "addedWidgets": {},
       "aggData": [],
       "aggError": "",
       "aggOverflow": false,
       "aggSchema": [],
       "aggSeriesLimitReached": false,
       "aggType": "",
       "arguments": {},
       "columnCustomDisplayInfos": {},
       "data": [
        [
         "Upper East Side South",
         121811,
         6.905632960330168,
         169800.0
        ],
        [
         "Upper East Side North",
         103449,
         7.090884640881556,
         143579.0
        ],
        [
         "Penn Station/Madison Sq West",
         96361,
         7.918537727903516,
         136625.0
        ],
        [
         "Midtown Center",
         93275,
         7.6860915333769055,
         134263.0
        ],
        [
         "Murray Hill",
         87914,
         7.757619426672339,
         123110.0
        ],
        [
         "Midtown East",
         84533,
         7.45525586506237,
         118884.0
        ],
        [
         "Lincoln Square East",
         80632,
         7.572146532069324,
         114275.0
        ],
        [
         "Clinton East",
         74123,
         8.940849065869886,
         106488.0
        ],
        [
         "Upper West Side South",
         74165,
         6.9206408211866135,
         105037.0
        ],
        [
         "Union Sq",
         73365,
         7.57410265222722,
         104832.0
        ]
       ],
       "datasetInfos": [],
       "dbfsResultPath": null,
       "isJsonSchema": true,
       "metadata": {},
       "overflow": false,
       "plotOptions": {
        "customPlotOptions": {},
        "displayType": "table",
        "pivotAggregation": null,
        "pivotColumns": null,
        "xColumns": null,
        "yColumns": null
       },
       "removedWidgets": [],
       "schema": [
        {
         "metadata": "{}",
         "name": "PUZone",
         "type": "\"string\""
        },
        {
         "metadata": "{}",
         "name": "total_trips",
         "type": "\"long\""
        },
        {
         "metadata": "{}",
         "name": "average_profitability",
         "type": "\"double\""
        },
        {
         "metadata": "{}",
         "name": "total_passengers",
         "type": "\"double\""
        }
       ],
       "type": "table"
      }
     },
     "output_type": "display_data"
    }
   ],
   "source": [
    "# use 'display()' or return a pandas DataFrame for 'pretty' output\n",
    "display(top10_passenger)"
   ]
  },
  {
   "cell_type": "markdown",
   "metadata": {
    "application/vnd.databricks.v1+cell": {
     "cellMetadata": {},
     "inputWidgets": {},
     "nuid": "7b950c5e-b7fd-405e-a0ba-0fe9c2752678",
     "showTitle": false,
     "title": ""
    }
   },
   "source": [
    "## Task 4 - Record the pipeline's execution time\n",
    "\n",
    "Record the execution time of:\n",
    "\n",
    "1. the whole pipeline\n",
    "2. the whole pipeline except task 1.2\n",
    "\n",
    "on the two tables below, for all dataset sizes: `'S'`, `'M'`, `'L'`, `'XL'`, `'XXL'`, and data formats: `parquet` and `delta`.\n",
    "\n",
    "Analyse the resulting execution times and comment on the effect of dataset size, dataset format and task complexity (with and without task 1.2) on pipeline performance."
   ]
  },
  {
   "cell_type": "code",
   "execution_count": 0,
   "metadata": {
    "application/vnd.databricks.v1+cell": {
     "cellMetadata": {
      "byteLimit": 2048000,
      "rowLimit": 10000
     },
     "inputWidgets": {},
     "nuid": "a0e68e8c-4de9-4e04-9de0-f36e24b10f7a",
     "showTitle": false,
     "title": ""
    }
   },
   "outputs": [
    {
     "output_type": "stream",
     "name": "stdout",
     "output_type": "stream",
     "text": [
      "\n    Trips dataset loaded!\n    ---\n      Size: S\n      Format: parquet\n      Tables loaded: ['/FileStore/tables/taxi/parquet/tripdata_2021_07.parquet']\n      Number of trips (dataset rows): 2,898,033\n    \nData Format: parquet, Size: S, With Task 1.2: True, Duration: 12.336172103881836 seconds\n\n    Trips dataset loaded!\n    ---\n      Size: S\n      Format: parquet\n      Tables loaded: ['/FileStore/tables/taxi/parquet/tripdata_2021_07.parquet']\n      Number of trips (dataset rows): 2,898,033\n    \nData Format: parquet, Size: S, With Task 1.2: False, Duration: 6.020719289779663 seconds\n\n    Trips dataset loaded!\n    ---\n      Size: M\n      Format: parquet\n      Tables loaded: ['/FileStore/tables/taxi/parquet/tripdata_2021.parquet']\n      Number of trips (dataset rows): 15,571,166\n    \nData Format: parquet, Size: M, With Task 1.2: True, Duration: 49.636245012283325 seconds\n\n    Trips dataset loaded!\n    ---\n      Size: M\n      Format: parquet\n      Tables loaded: ['/FileStore/tables/taxi/parquet/tripdata_2021.parquet']\n      Number of trips (dataset rows): 15,571,166\n    \nData Format: parquet, Size: M, With Task 1.2: False, Duration: 23.785754203796387 seconds\n\n    Trips dataset loaded!\n    ---\n      Size: L\n      Format: parquet\n      Tables loaded: ['/FileStore/tables/taxi/parquet/tripdata_2020_21.parquet']\n      Number of trips (dataset rows): 41,953,716\n    \nData Format: parquet, Size: L, With Task 1.2: True, Duration: 136.25159788131714 seconds\n\n    Trips dataset loaded!\n    ---\n      Size: L\n      Format: parquet\n      Tables loaded: ['/FileStore/tables/taxi/parquet/tripdata_2020_21.parquet']\n      Number of trips (dataset rows): 41,953,716\n    \nData Format: parquet, Size: L, With Task 1.2: False, Duration: 58.14100480079651 seconds\n\n    Trips dataset loaded!\n    ---\n      Size: XL\n      Format: parquet\n      Tables loaded: ['/FileStore/tables/taxi/parquet/tripdata_1_6_2019.parquet', '/FileStore/tables/taxi/parquet/tripdata_7_12_2019.parquet']\n      Number of trips (dataset rows): 90,443,069\n    \nData Format: parquet, Size: XL, With Task 1.2: True, Duration: 159.37653589248657 seconds\n\n    Trips dataset loaded!\n    ---\n      Size: XL\n      Format: parquet\n      Tables loaded: ['/FileStore/tables/taxi/parquet/tripdata_1_6_2019.parquet', '/FileStore/tables/taxi/parquet/tripdata_7_12_2019.parquet']\n      Number of trips (dataset rows): 90,443,069\n    \nData Format: parquet, Size: XL, With Task 1.2: False, Duration: 72.63539719581604 seconds\n\n    Trips dataset loaded!\n    ---\n      Size: XXL\n      Format: parquet\n      Tables loaded: ['/FileStore/tables/taxi/parquet/tripdata_1_6_2019.parquet', '/FileStore/tables/taxi/parquet/tripdata_7_12_2019.parquet', '/FileStore/tables/taxi/parquet/tripdata_2020_21.parquet']\n      Number of trips (dataset rows): 132,396,785\n    \nData Format: parquet, Size: XXL, With Task 1.2: True, Duration: 167.06897807121277 seconds\n\n    Trips dataset loaded!\n    ---\n      Size: XXL\n      Format: parquet\n      Tables loaded: ['/FileStore/tables/taxi/parquet/tripdata_1_6_2019.parquet', '/FileStore/tables/taxi/parquet/tripdata_7_12_2019.parquet', '/FileStore/tables/taxi/parquet/tripdata_2020_21.parquet']\n      Number of trips (dataset rows): 132,396,785\n    \nData Format: parquet, Size: XXL, With Task 1.2: False, Duration: 78.67177486419678 seconds\n\n    Trips dataset loaded!\n    ---\n      Size: S\n      Format: delta\n      Tables loaded: /FileStore/tables/taxi/delta/taxi-S-delta/\n      Number of trips (dataset rows): 2,898,033\n    \nData Format: delta, Size: S, With Task 1.2: True, Duration: 11.820488691329956 seconds\n\n    Trips dataset loaded!\n    ---\n      Size: S\n      Format: delta\n      Tables loaded: /FileStore/tables/taxi/delta/taxi-S-delta/\n      Number of trips (dataset rows): 2,898,033\n    \nData Format: delta, Size: S, With Task 1.2: False, Duration: 5.341700315475464 seconds\n\n    Trips dataset loaded!\n    ---\n      Size: M\n      Format: delta\n      Tables loaded: /FileStore/tables/taxi/delta/taxi-M-delta/\n      Number of trips (dataset rows): 15,571,166\n    \nData Format: delta, Size: M, With Task 1.2: True, Duration: 18.346858501434326 seconds\n\n    Trips dataset loaded!\n    ---\n      Size: M\n      Format: delta\n      Tables loaded: /FileStore/tables/taxi/delta/taxi-M-delta/\n      Number of trips (dataset rows): 15,571,166\n    \nData Format: delta, Size: M, With Task 1.2: False, Duration: 8.167319297790527 seconds\n\n    Trips dataset loaded!\n    ---\n      Size: L\n      Format: delta\n      Tables loaded: /FileStore/tables/taxi/delta/taxi-L-delta/\n      Number of trips (dataset rows): 41,953,716\n    \nData Format: delta, Size: L, With Task 1.2: True, Duration: 22.190441370010376 seconds\n\n    Trips dataset loaded!\n    ---\n      Size: L\n      Format: delta\n      Tables loaded: /FileStore/tables/taxi/delta/taxi-L-delta/\n      Number of trips (dataset rows): 41,953,716\n    \nData Format: delta, Size: L, With Task 1.2: False, Duration: 8.26361894607544 seconds\n\n    Trips dataset loaded!\n    ---\n      Size: XL\n      Format: delta\n      Tables loaded: /FileStore/tables/taxi/delta/taxi-XL-delta/\n      Number of trips (dataset rows): 90,443,069\n    \nData Format: delta, Size: XL, With Task 1.2: True, Duration: 38.89787721633911 seconds\n\n    Trips dataset loaded!\n    ---\n      Size: XL\n      Format: delta\n      Tables loaded: /FileStore/tables/taxi/delta/taxi-XL-delta/\n      Number of trips (dataset rows): 90,443,069\n    \nData Format: delta, Size: XL, With Task 1.2: False, Duration: 14.183773040771484 seconds\n\n    Trips dataset loaded!\n    ---\n      Size: XXL\n      Format: delta\n      Tables loaded: /FileStore/tables/taxi/delta/taxi-XXL-delta/\n      Number of trips (dataset rows): 132,396,785\n    \nData Format: delta, Size: XXL, With Task 1.2: True, Duration: 42.887826442718506 seconds\n\n    Trips dataset loaded!\n    ---\n      Size: XXL\n      Format: delta\n      Tables loaded: /FileStore/tables/taxi/delta/taxi-XXL-delta/\n      Number of trips (dataset rows): 132,396,785\n    \nData Format: delta, Size: XXL, With Task 1.2: False, Duration: 18.481432676315308 seconds\n"
     ]
    }
   ],
   "source": [
    "# CHANGE the value of the following arguments to record the pipeline execution times for increasing dataset sizes\n",
    "import time\n",
    "\n",
    "sizes = ['S', 'M', 'L', 'XL', 'XXL']\n",
    "formats = ['parquet', 'delta']\n",
    "with_task_12_options = [True, False]\n",
    "\n",
    "execution_times = {}\n",
    "\n",
    "for data_format in formats:\n",
    "    for size in sizes:\n",
    "        for with_task_12 in with_task_12_options:\n",
    "            # Start timer\n",
    "            start_time = time.time()\n",
    "            \n",
    "            # Load the dataset\n",
    "            trips = init_trips(size, data_format)\n",
    "            \n",
    "            # Execute the pipeline\n",
    "            pipeline(trips, with_task_12=with_task_12)\n",
    "            \n",
    "            # Record end-time and calculate the duration of execution time\n",
    "            end_time = time.time()\n",
    "            duration = end_time - start_time\n",
    "            \n",
    "            # Print the execution time for each run\n",
    "            key = (data_format, size, with_task_12)\n",
    "            execution_times[key] = duration\n",
    "\n",
    "            print(f\"Data Format: {data_format}, Size: {size}, With Task 1.2: {with_task_12}, Duration: {duration} seconds\")\n"
   ]
  },
  {
   "cell_type": "markdown",
   "metadata": {
    "application/vnd.databricks.v1+cell": {
     "cellMetadata": {},
     "inputWidgets": {},
     "nuid": "08018100-ac87-4801-94fc-c9fec3dc6a66",
     "showTitle": false,
     "title": ""
    }
   },
   "source": [
    "_Table 1. Pipeline performance for `parquet` format.（left 2 decimals for time & speed）_\n",
    "\n",
    "| metric                           | S    | M    | L    | XL   | XXL  |\n",
    "|----------------------------------|------|------|------|------|------|\n",
    "| rows (M)                         |  2.898033 |  15.571166 |  41.953716 |  90.443069 |  132.396785 |\n",
    "| execution time (w/o 1.2) (sec)   | 6.02 | 23.79 | 58.14 | 72.64 | 78.67 |\n",
    "| execution time (sec)             | 12.34| 49.64 | 136.25| 159.38| 167.07|\n",
    "| sec / 1M records (w/o 1.2)       | 2.08 | 1.53  | 1.39  | 0.80  | 0.59  |\n",
    "| sec / 1M records                 | 4.26 | 3.19  | 3.25  | 1.76  | 1.26  |"
   ]
  },
  {
   "cell_type": "markdown",
   "metadata": {
    "application/vnd.databricks.v1+cell": {
     "cellMetadata": {},
     "inputWidgets": {},
     "nuid": "e565c658-ba51-45cc-a617-227d6befb6dc",
     "showTitle": false,
     "title": ""
    }
   },
   "source": [
    "_Table 2. Pipeline performance for `delta` format.（left 2 decimals for time & speed）_\n",
    "\n",
    "| metric                           | S    | M    | L    | XL   | XXL  |\n",
    "|----------------------------------|------|------|------|------|------|\n",
    "| rows (M)                         |  2.898033 |  15.571166 |  41.953716 |  90.443069 |  132.396785 |\n",
    "| execution time (w/o 1.2) (sec)   | 5.34  | 8.17  | 8.26  | 14.18 | 18.48 |\n",
    "| execution time (sec)             | 11.82 | 18.35 | 22.19 | 38.90 | 42.89 |\n",
    "| sec / 1M records (w/o 1.2)       | 1.84  | 0.52  | 0.20  | 0.16  | 0.14  |\n",
    "| sec / 1M records                 | 4.08  | 1.18  | 0.53  | 0.43  | 0.32  |"
   ]
  },
  {
   "cell_type": "markdown",
   "metadata": {
    "application/vnd.databricks.v1+cell": {
     "cellMetadata": {},
     "inputWidgets": {},
     "nuid": "dc5432d9-1746-4c43-9aa5-4a1a194adbfa",
     "showTitle": false,
     "title": ""
    }
   },
   "source": [
    "I ran it on my personal cluster."
   ]
  }
 ],
 "metadata": {
  "application/vnd.databricks.v1+notebook": {
   "dashboards": [],
   "language": "python",
   "notebookMetadata": {
    "pythonIndentUnit": 4
   },
   "notebookName": "CSC8101-spark-coursework",
   "widgets": {}
  },
  "language_info": {
   "name": "plaintext"
  }
 },
 "nbformat": 4,
 "nbformat_minor": 0
}
